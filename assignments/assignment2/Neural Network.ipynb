{
 "cells": [
  {
   "cell_type": "markdown",
   "metadata": {},
   "source": [
    "# Задание 2.1 - Нейронные сети\n",
    "\n",
    "В этом задании вы реализуете и натренируете настоящую нейроную сеть своими руками!\n",
    "\n",
    "В некотором смысле это будет расширением прошлого задания - нам нужно просто составить несколько линейных классификаторов вместе!\n",
    "\n",
    "<img src=\"https://i.redd.it/n9fgba8b0qr01.png\" alt=\"Stack_more_layers\" width=\"400px\"/>"
   ]
  },
  {
   "cell_type": "code",
   "execution_count": 1,
   "metadata": {},
   "outputs": [],
   "source": [
    "import numpy as np\n",
    "import matplotlib.pyplot as plt\n",
    "\n",
    "%matplotlib inline\n",
    "\n",
    "%load_ext autoreload\n",
    "%autoreload 2"
   ]
  },
  {
   "cell_type": "code",
   "execution_count": 2,
   "metadata": {},
   "outputs": [],
   "source": [
    "from dataset import load_svhn, random_split_train_val\n",
    "from gradient_check import check_layer_gradient, check_layer_param_gradient, check_model_gradient\n",
    "from layers import FullyConnectedLayer, ReLULayer\n",
    "from model import TwoLayerNet\n",
    "from trainer import Trainer, Dataset\n",
    "from optim import SGD, MomentumSGD\n",
    "from metrics import multiclass_accuracy"
   ]
  },
  {
   "cell_type": "markdown",
   "metadata": {},
   "source": [
    "# Загружаем данные\n",
    "\n",
    "И разделяем их на training и validation."
   ]
  },
  {
   "cell_type": "code",
   "execution_count": 5,
   "metadata": {},
   "outputs": [],
   "source": [
    "def prepare_for_neural_network(train_X, test_X):\n",
    "    train_flat = train_X.reshape(train_X.shape[0], -1).astype(float) / 255.0\n",
    "    test_flat = test_X.reshape(test_X.shape[0], -1).astype(float) / 255.0\n",
    "    \n",
    "    # Subtract mean\n",
    "    mean_image = np.mean(train_flat, axis = 0)\n",
    "    train_flat -= mean_image\n",
    "    test_flat -= mean_image\n",
    "    \n",
    "    return train_flat, test_flat\n",
    "    \n",
    "train_X, train_y, test_X, test_y = load_svhn(\"data\", max_train=10000, max_test=1000)    \n",
    "train_X, test_X = prepare_for_neural_network(train_X, test_X)\n",
    "# Split train into train and val\n",
    "train_X, train_y, val_X, val_y = random_split_train_val(train_X, train_y, num_val = 1000)"
   ]
  },
  {
   "cell_type": "markdown",
   "metadata": {},
   "source": [
    "# Как всегда, начинаем с кирпичиков\n",
    "\n",
    "Мы будем реализовывать необходимые нам слои по очереди. Каждый слой должен реализовать:\n",
    "- прямой проход (forward pass), который генерирует выход слоя по входу и запоминает необходимые данные\n",
    "- обратный проход (backward pass), который получает градиент по выходу слоя и вычисляет градиент по входу и по параметрам\n",
    "\n",
    "Начнем с ReLU, у которого параметров нет."
   ]
  },
  {
   "cell_type": "code",
   "execution_count": 6,
   "metadata": {
    "scrolled": false
   },
   "outputs": [
    {
     "name": "stdout",
     "output_type": "stream",
     "text": [
      "Gradient check passed!\n"
     ]
    }
   ],
   "source": [
    "X = np.array([[1,-2,3],\n",
    "              [-1, 2, 0.1]\n",
    "              ])\n",
    "\n",
    "assert check_layer_gradient(ReLULayer(), X)"
   ]
  },
  {
   "cell_type": "markdown",
   "metadata": {},
   "source": [
    "А теперь реализуем полносвязный слой (fully connected layer), у которого будет два массива параметров: W (weights) и B (bias).\n",
    "\n",
    "Все параметры наши слои будут использовать для параметров специальный класс `Param`, в котором будут храниться значения параметров и градиенты этих параметров, вычисляемые во время обратного прохода.\n",
    "\n",
    "Это даст возможность аккумулировать (суммировать) градиенты из разных частей функции потерь, например, из cross-entropy loss и regularization loss."
   ]
  },
  {
   "cell_type": "code",
   "execution_count": 7,
   "metadata": {},
   "outputs": [
    {
     "name": "stdout",
     "output_type": "stream",
     "text": [
      "Gradient check passed!\n"
     ]
    }
   ],
   "source": [
    "# Test FullyConnected layer forward and backward methods\n",
    "assert check_layer_gradient(FullyConnectedLayer(3, 4), X)"
   ]
  },
  {
   "cell_type": "code",
   "execution_count": 8,
   "outputs": [
    {
     "name": "stdout",
     "output_type": "stream",
     "text": [
      "Gradient check passed!\n",
      "Gradient check passed!\n"
     ]
    }
   ],
   "source": [
    "# TODO: Test storing gradients for W and B\n",
    "assert check_layer_param_gradient(FullyConnectedLayer(3, 4), X, 'W')\n",
    "assert check_layer_param_gradient(FullyConnectedLayer(3, 4), X, 'B')"
   ],
   "metadata": {
    "collapsed": false,
    "pycharm": {
     "name": "#%%\n"
    }
   }
  },
  {
   "cell_type": "markdown",
   "metadata": {},
   "source": [
    "## Создаем нейронную сеть\n",
    "\n",
    "Теперь мы реализуем простейшую нейронную сеть с двумя полносвязным слоями и нелинейностью ReLU. Реализуйте функцию `compute_loss_and_gradients`, она должна запустить прямой и обратный проход через оба слоя для вычисления градиентов.\n",
    "\n",
    "Не забудьте реализовать очистку градиентов в начале функции."
   ]
  },
  {
   "cell_type": "code",
   "execution_count": 9,
   "metadata": {},
   "outputs": [
    {
     "name": "stdout",
     "output_type": "stream",
     "text": [
      "Checking gradient for W0\n",
      "Gradient check passed!\n",
      "Checking gradient for B0\n",
      "Gradient check passed!\n",
      "Checking gradient for W2\n",
      "Gradient check passed!\n",
      "Checking gradient for B2\n",
      "Gradient check passed!\n"
     ]
    },
    {
     "data": {
      "text/plain": "True"
     },
     "execution_count": 9,
     "metadata": {},
     "output_type": "execute_result"
    }
   ],
   "source": [
    "# Test model.py compute_loss_and_gradients function\n",
    "model = TwoLayerNet(n_input = train_X.shape[1], n_output = 10, hidden_layer_size = 3, reg = 0)\n",
    "loss = model.compute_loss_and_gradients(train_X[:2], train_y[:2])\n",
    "\n",
    "# Test backward pass and aggregate all of the params\n",
    "check_model_gradient(model, train_X[:2], train_y[:2])"
   ]
  },
  {
   "cell_type": "markdown",
   "metadata": {},
   "source": [
    "Теперь добавьте к модели регуляризацию - она должна прибавляться к loss и делать свой вклад в градиенты."
   ]
  },
  {
   "cell_type": "code",
   "execution_count": 10,
   "metadata": {},
   "outputs": [
    {
     "name": "stdout",
     "output_type": "stream",
     "text": [
      "Checking gradient for W0\n",
      "Gradient check passed!\n",
      "Checking gradient for B0\n",
      "Gradient check passed!\n",
      "Checking gradient for W2\n",
      "Gradient check passed!\n",
      "Checking gradient for B2\n",
      "Gradient check passed!\n"
     ]
    },
    {
     "data": {
      "text/plain": "True"
     },
     "execution_count": 10,
     "metadata": {},
     "output_type": "execute_result"
    }
   ],
   "source": [
    "# Test l2 regularization in the forward and backward pass\n",
    "model_with_reg = TwoLayerNet(n_input = train_X.shape[1], n_output = 10, hidden_layer_size = 3, reg = 1e1)\n",
    "loss_with_reg = model_with_reg.compute_loss_and_gradients(train_X[:2], train_y[:2])\n",
    "assert loss_with_reg > loss and not np.isclose(loss_with_reg, loss), \\\n",
    "    \"Loss with regularization (%2.4f) should be higher than without it (%2.4f)!\" % (loss, loss_with_reg)\n",
    "\n",
    "check_model_gradient(model_with_reg, train_X[:2], train_y[:2])"
   ]
  },
  {
   "cell_type": "markdown",
   "metadata": {},
   "source": [
    "Также реализуем функцию предсказания (вычисления значения) модели на новых данных.\n",
    "\n",
    "Какое значение точности мы ожидаем увидеть до начала тренировки?"
   ]
  },
  {
   "cell_type": "code",
   "execution_count": 13,
   "metadata": {},
   "outputs": [
    {
     "data": {
      "text/plain": "0.1"
     },
     "execution_count": 13,
     "metadata": {},
     "output_type": "execute_result"
    }
   ],
   "source": [
    "# Finally, implement predict function!\n",
    "# What would be the value we expect?\n",
    "multiclass_accuracy(model_with_reg.predict(train_X[:30]), train_y[:30]) "
   ]
  },
  {
   "cell_type": "markdown",
   "metadata": {},
   "source": [
    "# Допишем код для процесса тренировки\n",
    "\n",
    "Если все реализовано корректно, значение функции ошибки должно уменьшаться с каждой эпохой, пусть и медленно. Не беспокойтесь пока про validation accuracy."
   ]
  },
  {
   "cell_type": "code",
   "execution_count": 16,
   "metadata": {},
   "outputs": [
    {
     "name": "stdout",
     "output_type": "stream",
     "text": [
      "Loss: 2.242923, Train accuracy: 0.196667, val accuracy: 0.206000\n",
      "Loss: 2.142792, Train accuracy: 0.196667, val accuracy: 0.206000\n",
      "Loss: 2.167898, Train accuracy: 0.196667, val accuracy: 0.206000\n",
      "Loss: 2.214401, Train accuracy: 0.196667, val accuracy: 0.206000\n",
      "Loss: 2.306899, Train accuracy: 0.196667, val accuracy: 0.206000\n",
      "Loss: 2.331796, Train accuracy: 0.196667, val accuracy: 0.206000\n",
      "Loss: 2.315803, Train accuracy: 0.196667, val accuracy: 0.206000\n",
      "Loss: 2.040757, Train accuracy: 0.196667, val accuracy: 0.206000\n",
      "Loss: 2.153691, Train accuracy: 0.212889, val accuracy: 0.221000\n",
      "Loss: 2.017334, Train accuracy: 0.239889, val accuracy: 0.245000\n",
      "Loss: 2.035127, Train accuracy: 0.256889, val accuracy: 0.253000\n",
      "Loss: 1.929650, Train accuracy: 0.269111, val accuracy: 0.269000\n",
      "Loss: 1.991373, Train accuracy: 0.279333, val accuracy: 0.283000\n",
      "Loss: 1.802370, Train accuracy: 0.307111, val accuracy: 0.313000\n",
      "Loss: 1.889998, Train accuracy: 0.335111, val accuracy: 0.336000\n",
      "Loss: 2.080546, Train accuracy: 0.369889, val accuracy: 0.364000\n",
      "Loss: 1.688276, Train accuracy: 0.405444, val accuracy: 0.394000\n",
      "Loss: 1.496667, Train accuracy: 0.438000, val accuracy: 0.431000\n",
      "Loss: 1.471469, Train accuracy: 0.458333, val accuracy: 0.447000\n",
      "Loss: 1.416245, Train accuracy: 0.479333, val accuracy: 0.464000\n"
     ]
    }
   ],
   "source": [
    "model = TwoLayerNet(n_input = train_X.shape[1], n_output = 10, hidden_layer_size = 100, reg = 1e-3)\n",
    "dataset = Dataset(train_X, train_y, val_X, val_y)\n",
    "trainer = Trainer(model, dataset, SGD())\n",
    "\n",
    "loss_history, train_history, val_history = trainer.fit()"
   ]
  },
  {
   "cell_type": "code",
   "execution_count": 17,
   "metadata": {},
   "outputs": [
    {
     "data": {
      "text/plain": "[<matplotlib.lines.Line2D at 0x1ec8e6c8948>]"
     },
     "execution_count": 17,
     "metadata": {},
     "output_type": "execute_result"
    },
    {
     "data": {
      "text/plain": "<Figure size 432x288 with 1 Axes>",
      "image/png": "[encoded data removed]"
     },
     "metadata": {
      "needs_background": "light"
     },
     "output_type": "display_data"
    }
   ],
   "source": [
    "plt.plot(train_history)\n",
    "plt.plot(val_history)"
   ]
  },
  {
   "cell_type": "code",
   "execution_count": 26,
   "outputs": [
    {
     "data": {
      "text/plain": "[<matplotlib.lines.Line2D at 0x1ec8fef3d48>]"
     },
     "execution_count": 26,
     "metadata": {},
     "output_type": "execute_result"
    },
    {
     "data": {
      "text/plain": "<Figure size 432x288 with 1 Axes>",
      "image/png": "[encoded data removed]"
     },
     "metadata": {
      "needs_background": "light"
     },
     "output_type": "display_data"
    }
   ],
   "source": [
    "plt.plot(loss_history)\n"
   ],
   "metadata": {
    "collapsed": false,
    "pycharm": {
     "name": "#%%\n"
    }
   }
  },
  {
   "cell_type": "markdown",
   "metadata": {},
   "source": [
    "# Улучшаем процесс тренировки\n",
    "\n",
    "Мы реализуем несколько ключевых оптимизаций, необходимых для тренировки современных нейросетей."
   ]
  },
  {
   "cell_type": "markdown",
   "metadata": {},
   "source": [
    "## Уменьшение скорости обучения (learning rate decay)\n",
    "\n",
    "Одна из необходимых оптимизаций во время тренировки нейронных сетей - постепенное уменьшение скорости обучения по мере тренировки.\n",
    "\n",
    "Один из стандартных методов - уменьшение скорости обучения (learning rate) каждые N эпох на коэффициент d (часто называемый decay). Значения N и d, как всегда, являются гиперпараметрами и должны подбираться на основе эффективности на проверочных данных (validation data). \n",
    "\n",
    "В нашем случае N будет равным 1."
   ]
  },
  {
   "cell_type": "code",
   "execution_count": 19,
   "metadata": {},
   "outputs": [
    {
     "name": "stdout",
     "output_type": "stream",
     "text": [
      "Loss: 2.309754, Train accuracy: 0.196667, val accuracy: 0.206000\n",
      "Loss: 2.217571, Train accuracy: 0.196667, val accuracy: 0.206000\n",
      "Loss: 2.236721, Train accuracy: 0.196667, val accuracy: 0.206000\n",
      "Loss: 2.310234, Train accuracy: 0.196667, val accuracy: 0.206000\n",
      "Loss: 2.285209, Train accuracy: 0.196667, val accuracy: 0.206000\n",
      "Loss: 2.233009, Train accuracy: 0.196667, val accuracy: 0.206000\n",
      "Loss: 2.259510, Train accuracy: 0.196667, val accuracy: 0.206000\n",
      "Loss: 2.156655, Train accuracy: 0.196667, val accuracy: 0.206000\n",
      "Loss: 2.172241, Train accuracy: 0.203778, val accuracy: 0.211000\n",
      "Loss: 2.270294, Train accuracy: 0.228333, val accuracy: 0.232000\n",
      "Loss: 2.172984, Train accuracy: 0.249222, val accuracy: 0.252000\n",
      "Loss: 1.919335, Train accuracy: 0.264667, val accuracy: 0.262000\n",
      "Loss: 2.065160, Train accuracy: 0.273556, val accuracy: 0.271000\n",
      "Loss: 2.124442, Train accuracy: 0.283444, val accuracy: 0.289000\n",
      "Loss: 1.914513, Train accuracy: 0.301333, val accuracy: 0.302000\n",
      "Loss: 1.916397, Train accuracy: 0.333333, val accuracy: 0.329000\n",
      "Loss: 1.796251, Train accuracy: 0.363556, val accuracy: 0.357000\n",
      "Loss: 1.478837, Train accuracy: 0.383778, val accuracy: 0.369000\n",
      "Loss: 1.561516, Train accuracy: 0.410778, val accuracy: 0.401000\n",
      "Loss: 1.751473, Train accuracy: 0.428556, val accuracy: 0.413000\n"
     ]
    }
   ],
   "source": [
    "model = TwoLayerNet(n_input=train_X.shape[1], n_output=10, hidden_layer_size=100, reg=1e-3)\n",
    "dataset = Dataset(train_X, train_y, val_X, val_y)\n",
    "trainer = Trainer(model, dataset, SGD(), learning_rate_decay=0.99)\n",
    "\n",
    "initial_learning_rate = trainer.learning_rate\n",
    "loss_history, train_history, val_history = trainer.fit()\n",
    "\n",
    "assert trainer.learning_rate < initial_learning_rate, \"Learning rate should've been reduced\"\n",
    "assert trainer.learning_rate > 0.5 * initial_learning_rate, \"Learning rate shouldn'tve been reduced that much!\""
   ]
  },
  {
   "cell_type": "code",
   "execution_count": 20,
   "outputs": [
    {
     "data": {
      "text/plain": "[<matplotlib.lines.Line2D at 0x1ec8e7ba708>]"
     },
     "execution_count": 20,
     "metadata": {},
     "output_type": "execute_result"
    },
    {
     "data": {
      "text/plain": "<Figure size 432x288 with 1 Axes>",
      "image/png": "[encoded data removed]"
     },
     "metadata": {
      "needs_background": "light"
     },
     "output_type": "display_data"
    }
   ],
   "source": [
    "plt.plot(train_history)\n",
    "plt.plot(val_history)"
   ],
   "metadata": {
    "collapsed": false,
    "pycharm": {
     "name": "#%%\n"
    }
   }
  },
  {
   "cell_type": "code",
   "execution_count": 25,
   "outputs": [
    {
     "data": {
      "text/plain": "[<matplotlib.lines.Line2D at 0x1ec906ed608>]"
     },
     "execution_count": 25,
     "metadata": {},
     "output_type": "execute_result"
    },
    {
     "data": {
      "text/plain": "<Figure size 432x288 with 1 Axes>",
      "image/png": "[encoded data removed]"
     },
     "metadata": {
      "needs_background": "light"
     },
     "output_type": "display_data"
    }
   ],
   "source": [
    "plt.plot(loss_history)"
   ],
   "metadata": {
    "collapsed": false,
    "pycharm": {
     "name": "#%%\n"
    }
   }
  },
  {
   "cell_type": "markdown",
   "metadata": {},
   "source": [
    "# Накопление импульса (Momentum SGD)\n",
    "\n",
    "Другой большой класс оптимизаций - использование более эффективных методов градиентного спуска. Мы реализуем один из них - накопление импульса (Momentum SGD).\n",
    "\n",
    "Этот метод хранит скорость движения, использует градиент для ее изменения на каждом шаге, и изменяет веса пропорционально значению скорости.\n",
    "(Физическая аналогия: Вместо скорости градиенты теперь будут задавать ускорение, но будет присутствовать сила трения.)\n",
    "\n",
    "```\n",
    "velocity = momentum * velocity - learning_rate * gradient \n",
    "w = w + velocity\n",
    "```\n",
    "\n",
    "`momentum` здесь коэффициент затухания, который тоже является гиперпараметром (к счастью, для него часто есть хорошее значение по умолчанию, типичный диапазон -- 0.8-0.99).\n",
    "\n",
    "Несколько полезных ссылок, где метод разбирается более подробно:  \n",
    "http://cs231n.github.io/neural-networks-3/#sgd  \n",
    "https://distill.pub/2017/momentum/"
   ]
  },
  {
   "cell_type": "code",
   "execution_count": 22,
   "metadata": {},
   "outputs": [
    {
     "name": "stdout",
     "output_type": "stream",
     "text": [
      "Loss: 2.101188, Train accuracy: 0.196667, val accuracy: 0.206000\n",
      "Loss: 1.783380, Train accuracy: 0.398444, val accuracy: 0.399000\n",
      "Loss: 1.734169, Train accuracy: 0.520889, val accuracy: 0.510000\n",
      "Loss: 1.794008, Train accuracy: 0.602111, val accuracy: 0.593000\n",
      "Loss: 1.642824, Train accuracy: 0.659333, val accuracy: 0.650000\n",
      "Loss: 1.165376, Train accuracy: 0.704444, val accuracy: 0.685000\n",
      "Loss: 1.285093, Train accuracy: 0.701000, val accuracy: 0.677000\n",
      "Loss: 0.995928, Train accuracy: 0.719778, val accuracy: 0.688000\n",
      "Loss: 1.475782, Train accuracy: 0.734333, val accuracy: 0.682000\n",
      "Loss: 1.218336, Train accuracy: 0.755333, val accuracy: 0.715000\n",
      "Loss: 1.100189, Train accuracy: 0.738111, val accuracy: 0.689000\n",
      "Loss: 0.851399, Train accuracy: 0.776444, val accuracy: 0.724000\n",
      "Loss: 0.992082, Train accuracy: 0.786000, val accuracy: 0.721000\n",
      "Loss: 0.849638, Train accuracy: 0.792778, val accuracy: 0.733000\n",
      "Loss: 1.151881, Train accuracy: 0.794333, val accuracy: 0.726000\n",
      "Loss: 0.986567, Train accuracy: 0.769778, val accuracy: 0.700000\n",
      "Loss: 1.072212, Train accuracy: 0.805444, val accuracy: 0.718000\n",
      "Loss: 1.072807, Train accuracy: 0.797333, val accuracy: 0.728000\n",
      "Loss: 0.554761, Train accuracy: 0.816222, val accuracy: 0.734000\n",
      "Loss: 0.853272, Train accuracy: 0.813556, val accuracy: 0.734000\n"
     ]
    }
   ],
   "source": [
    "model = TwoLayerNet(n_input = train_X.shape[1], n_output = 10, hidden_layer_size = 100, reg = 1e-3)\n",
    "dataset = Dataset(train_X, train_y, val_X, val_y)\n",
    "trainer = Trainer(model, dataset, MomentumSGD(), learning_rate_decay=0.99)\n",
    "\n",
    "loss_history, train_history, val_history = trainer.fit()"
   ]
  },
  {
   "cell_type": "code",
   "execution_count": 23,
   "outputs": [
    {
     "data": {
      "text/plain": "[<matplotlib.lines.Line2D at 0x1ec90b17dc8>]"
     },
     "execution_count": 23,
     "metadata": {},
     "output_type": "execute_result"
    },
    {
     "data": {
      "text/plain": "<Figure size 432x288 with 1 Axes>",
      "image/png": "[encoded data removed]"
     },
     "metadata": {
      "needs_background": "light"
     },
     "output_type": "display_data"
    }
   ],
   "source": [
    "plt.plot(train_history)\n",
    "plt.plot(val_history)"
   ],
   "metadata": {
    "collapsed": false,
    "pycharm": {
     "name": "#%%\n"
    }
   }
  },
  {
   "cell_type": "code",
   "execution_count": 24,
   "outputs": [
    {
     "data": {
      "text/plain": "[<matplotlib.lines.Line2D at 0x1ec909eea48>]"
     },
     "execution_count": 24,
     "metadata": {},
     "output_type": "execute_result"
    },
    {
     "data": {
      "text/plain": "<Figure size 432x288 with 1 Axes>",
      "image/png": "[encoded data removed]"
     },
     "metadata": {
      "needs_background": "light"
     },
     "output_type": "display_data"
    }
   ],
   "source": [
    "plt.plot(loss_history)"
   ],
   "metadata": {
    "collapsed": false,
    "pycharm": {
     "name": "#%%\n"
    }
   }
  },
  {
   "cell_type": "markdown",
   "metadata": {},
   "source": [
    "# Ну что, давайте уже тренировать сеть!"
   ]
  },
  {
   "cell_type": "markdown",
   "metadata": {},
   "source": [
    "## Последний тест - переобучимся (overfit) на маленьком наборе данных\n",
    "\n",
    "Хороший способ проверить, все ли реализовано корректно - переобучить сеть на маленьком наборе данных.  \n",
    "Наша модель обладает достаточной мощностью, чтобы приблизить маленький набор данных идеально, поэтому мы ожидаем, что на нем мы быстро дойдем до 100% точности на тренировочном наборе. \n",
    "\n",
    "Если этого не происходит, то где-то была допущена ошибка!"
   ]
  },
  {
   "cell_type": "code",
   "execution_count": 32,
   "metadata": {},
   "outputs": [
    {
     "name": "stdout",
     "output_type": "stream",
     "text": [
      "Loss: 2.335368, Train accuracy: 0.200000, val accuracy: 0.066667\n",
      "Loss: 2.327880, Train accuracy: 0.200000, val accuracy: 0.066667\n",
      "Loss: 2.333188, Train accuracy: 0.200000, val accuracy: 0.066667\n",
      "Loss: 2.294355, Train accuracy: 0.266667, val accuracy: 0.066667\n",
      "Loss: 2.293752, Train accuracy: 0.266667, val accuracy: 0.066667\n",
      "Loss: 2.230480, Train accuracy: 0.266667, val accuracy: 0.000000\n",
      "Loss: 2.289412, Train accuracy: 0.266667, val accuracy: 0.000000\n",
      "Loss: 2.239533, Train accuracy: 0.266667, val accuracy: 0.000000\n",
      "Loss: 2.297490, Train accuracy: 0.400000, val accuracy: 0.000000\n",
      "Loss: 2.328231, Train accuracy: 0.400000, val accuracy: 0.000000\n",
      "Loss: 2.221167, Train accuracy: 0.400000, val accuracy: 0.000000\n",
      "Loss: 1.775620, Train accuracy: 0.400000, val accuracy: 0.000000\n",
      "Loss: 2.178323, Train accuracy: 0.400000, val accuracy: 0.000000\n",
      "Loss: 1.538814, Train accuracy: 0.333333, val accuracy: 0.000000\n",
      "Loss: 1.940456, Train accuracy: 0.400000, val accuracy: 0.000000\n",
      "Loss: 1.454609, Train accuracy: 0.333333, val accuracy: 0.000000\n",
      "Loss: 2.041457, Train accuracy: 0.400000, val accuracy: 0.000000\n",
      "Loss: 2.174266, Train accuracy: 0.400000, val accuracy: 0.000000\n",
      "Loss: 1.839137, Train accuracy: 0.400000, val accuracy: 0.000000\n",
      "Loss: 1.416463, Train accuracy: 0.400000, val accuracy: 0.000000\n",
      "Loss: 2.091885, Train accuracy: 0.400000, val accuracy: 0.066667\n",
      "Loss: 1.480160, Train accuracy: 0.400000, val accuracy: 0.066667\n",
      "Loss: 2.055536, Train accuracy: 0.466667, val accuracy: 0.000000\n",
      "Loss: 1.903044, Train accuracy: 0.466667, val accuracy: 0.000000\n",
      "Loss: 1.948615, Train accuracy: 0.466667, val accuracy: 0.000000\n",
      "Loss: 1.947037, Train accuracy: 0.466667, val accuracy: 0.066667\n",
      "Loss: 1.711418, Train accuracy: 0.466667, val accuracy: 0.000000\n",
      "Loss: 1.676227, Train accuracy: 0.466667, val accuracy: 0.000000\n",
      "Loss: 1.856146, Train accuracy: 0.533333, val accuracy: 0.066667\n",
      "Loss: 1.634130, Train accuracy: 0.466667, val accuracy: 0.066667\n",
      "Loss: 1.651498, Train accuracy: 0.466667, val accuracy: 0.066667\n",
      "Loss: 1.469350, Train accuracy: 0.466667, val accuracy: 0.066667\n",
      "Loss: 1.995257, Train accuracy: 0.600000, val accuracy: 0.066667\n",
      "Loss: 1.203419, Train accuracy: 0.600000, val accuracy: 0.066667\n",
      "Loss: 1.752801, Train accuracy: 0.600000, val accuracy: 0.066667\n",
      "Loss: 1.397390, Train accuracy: 0.600000, val accuracy: 0.066667\n",
      "Loss: 1.106811, Train accuracy: 0.666667, val accuracy: 0.066667\n",
      "Loss: 1.680736, Train accuracy: 0.666667, val accuracy: 0.066667\n",
      "Loss: 1.897069, Train accuracy: 0.666667, val accuracy: 0.066667\n",
      "Loss: 1.834392, Train accuracy: 0.666667, val accuracy: 0.066667\n",
      "Loss: 1.322346, Train accuracy: 0.666667, val accuracy: 0.066667\n",
      "Loss: 1.639246, Train accuracy: 0.666667, val accuracy: 0.066667\n",
      "Loss: 1.869483, Train accuracy: 0.600000, val accuracy: 0.066667\n",
      "Loss: 2.022294, Train accuracy: 0.733333, val accuracy: 0.066667\n",
      "Loss: 1.655842, Train accuracy: 0.666667, val accuracy: 0.000000\n",
      "Loss: 1.248580, Train accuracy: 0.666667, val accuracy: 0.066667\n",
      "Loss: 1.643406, Train accuracy: 0.733333, val accuracy: 0.066667\n",
      "Loss: 1.851500, Train accuracy: 0.800000, val accuracy: 0.066667\n",
      "Loss: 1.382812, Train accuracy: 0.733333, val accuracy: 0.000000\n",
      "Loss: 1.223815, Train accuracy: 0.733333, val accuracy: 0.000000\n",
      "Loss: 1.124013, Train accuracy: 0.733333, val accuracy: 0.066667\n",
      "Loss: 1.723761, Train accuracy: 0.800000, val accuracy: 0.066667\n",
      "Loss: 1.107787, Train accuracy: 0.800000, val accuracy: 0.000000\n",
      "Loss: 1.503021, Train accuracy: 0.733333, val accuracy: 0.066667\n",
      "Loss: 1.351944, Train accuracy: 0.733333, val accuracy: 0.066667\n",
      "Loss: 1.207827, Train accuracy: 0.800000, val accuracy: 0.000000\n",
      "Loss: 1.358900, Train accuracy: 0.733333, val accuracy: 0.066667\n",
      "Loss: 1.745724, Train accuracy: 0.733333, val accuracy: 0.066667\n",
      "Loss: 1.357231, Train accuracy: 0.800000, val accuracy: 0.066667\n",
      "Loss: 1.311117, Train accuracy: 0.800000, val accuracy: 0.066667\n",
      "Loss: 1.393544, Train accuracy: 0.800000, val accuracy: 0.066667\n",
      "Loss: 0.951510, Train accuracy: 0.800000, val accuracy: 0.066667\n",
      "Loss: 1.272739, Train accuracy: 0.733333, val accuracy: 0.066667\n",
      "Loss: 1.283185, Train accuracy: 0.800000, val accuracy: 0.066667\n",
      "Loss: 1.291179, Train accuracy: 0.800000, val accuracy: 0.066667\n",
      "Loss: 1.317467, Train accuracy: 0.800000, val accuracy: 0.066667\n",
      "Loss: 1.373347, Train accuracy: 0.800000, val accuracy: 0.066667\n",
      "Loss: 1.319260, Train accuracy: 0.800000, val accuracy: 0.066667\n",
      "Loss: 2.056731, Train accuracy: 0.800000, val accuracy: 0.066667\n",
      "Loss: 0.987839, Train accuracy: 0.800000, val accuracy: 0.066667\n",
      "Loss: 1.390599, Train accuracy: 0.800000, val accuracy: 0.066667\n",
      "Loss: 1.396537, Train accuracy: 0.800000, val accuracy: 0.066667\n",
      "Loss: 1.678657, Train accuracy: 0.800000, val accuracy: 0.066667\n",
      "Loss: 1.272603, Train accuracy: 0.800000, val accuracy: 0.066667\n",
      "Loss: 1.306288, Train accuracy: 0.800000, val accuracy: 0.066667\n",
      "Loss: 0.998861, Train accuracy: 0.800000, val accuracy: 0.066667\n",
      "Loss: 1.672344, Train accuracy: 0.800000, val accuracy: 0.066667\n",
      "Loss: 1.266835, Train accuracy: 0.800000, val accuracy: 0.066667\n",
      "Loss: 1.734070, Train accuracy: 0.866667, val accuracy: 0.066667\n",
      "Loss: 1.909222, Train accuracy: 0.933333, val accuracy: 0.066667\n",
      "Loss: 1.414953, Train accuracy: 0.933333, val accuracy: 0.066667\n",
      "Loss: 0.970128, Train accuracy: 0.933333, val accuracy: 0.066667\n",
      "Loss: 1.543855, Train accuracy: 0.933333, val accuracy: 0.066667\n",
      "Loss: 1.526662, Train accuracy: 0.933333, val accuracy: 0.066667\n",
      "Loss: 1.034002, Train accuracy: 0.933333, val accuracy: 0.066667\n",
      "Loss: 1.338000, Train accuracy: 0.933333, val accuracy: 0.066667\n",
      "Loss: 1.841150, Train accuracy: 0.933333, val accuracy: 0.066667\n",
      "Loss: 1.648810, Train accuracy: 0.933333, val accuracy: 0.066667\n",
      "Loss: 1.009163, Train accuracy: 0.933333, val accuracy: 0.066667\n",
      "Loss: 1.306357, Train accuracy: 0.933333, val accuracy: 0.066667\n",
      "Loss: 1.266736, Train accuracy: 0.933333, val accuracy: 0.066667\n",
      "Loss: 1.164320, Train accuracy: 0.933333, val accuracy: 0.066667\n",
      "Loss: 1.608105, Train accuracy: 0.933333, val accuracy: 0.066667\n",
      "Loss: 1.203746, Train accuracy: 0.933333, val accuracy: 0.066667\n",
      "Loss: 1.326447, Train accuracy: 0.933333, val accuracy: 0.066667\n",
      "Loss: 1.904358, Train accuracy: 0.933333, val accuracy: 0.066667\n",
      "Loss: 1.299079, Train accuracy: 0.933333, val accuracy: 0.066667\n",
      "Loss: 1.089590, Train accuracy: 0.933333, val accuracy: 0.066667\n",
      "Loss: 1.450105, Train accuracy: 0.933333, val accuracy: 0.066667\n",
      "Loss: 1.096309, Train accuracy: 1.000000, val accuracy: 0.066667\n",
      "Loss: 1.122637, Train accuracy: 0.933333, val accuracy: 0.066667\n",
      "Loss: 1.199674, Train accuracy: 0.933333, val accuracy: 0.066667\n",
      "Loss: 1.250463, Train accuracy: 1.000000, val accuracy: 0.066667\n",
      "Loss: 1.219802, Train accuracy: 0.933333, val accuracy: 0.066667\n",
      "Loss: 1.394339, Train accuracy: 1.000000, val accuracy: 0.066667\n",
      "Loss: 1.061268, Train accuracy: 1.000000, val accuracy: 0.066667\n",
      "Loss: 1.535660, Train accuracy: 1.000000, val accuracy: 0.066667\n",
      "Loss: 1.178067, Train accuracy: 1.000000, val accuracy: 0.066667\n",
      "Loss: 1.528908, Train accuracy: 1.000000, val accuracy: 0.066667\n",
      "Loss: 1.239659, Train accuracy: 1.000000, val accuracy: 0.066667\n",
      "Loss: 1.349649, Train accuracy: 1.000000, val accuracy: 0.066667\n",
      "Loss: 1.658509, Train accuracy: 1.000000, val accuracy: 0.066667\n",
      "Loss: 1.308038, Train accuracy: 1.000000, val accuracy: 0.066667\n",
      "Loss: 1.343448, Train accuracy: 1.000000, val accuracy: 0.066667\n",
      "Loss: 1.501965, Train accuracy: 1.000000, val accuracy: 0.000000\n",
      "Loss: 1.560825, Train accuracy: 1.000000, val accuracy: 0.000000\n",
      "Loss: 1.452902, Train accuracy: 1.000000, val accuracy: 0.000000\n",
      "Loss: 1.669155, Train accuracy: 1.000000, val accuracy: 0.000000\n",
      "Loss: 1.526866, Train accuracy: 1.000000, val accuracy: 0.000000\n",
      "Loss: 1.288290, Train accuracy: 1.000000, val accuracy: 0.000000\n",
      "Loss: 1.659909, Train accuracy: 1.000000, val accuracy: 0.000000\n",
      "Loss: 1.173441, Train accuracy: 1.000000, val accuracy: 0.000000\n",
      "Loss: 1.216261, Train accuracy: 1.000000, val accuracy: 0.000000\n",
      "Loss: 1.098330, Train accuracy: 1.000000, val accuracy: 0.000000\n",
      "Loss: 1.452951, Train accuracy: 1.000000, val accuracy: 0.000000\n",
      "Loss: 1.426758, Train accuracy: 1.000000, val accuracy: 0.000000\n",
      "Loss: 1.466436, Train accuracy: 1.000000, val accuracy: 0.000000\n",
      "Loss: 1.244572, Train accuracy: 1.000000, val accuracy: 0.000000\n",
      "Loss: 1.348763, Train accuracy: 1.000000, val accuracy: 0.000000\n",
      "Loss: 1.405979, Train accuracy: 1.000000, val accuracy: 0.000000\n",
      "Loss: 1.321736, Train accuracy: 1.000000, val accuracy: 0.000000\n",
      "Loss: 1.314150, Train accuracy: 1.000000, val accuracy: 0.000000\n",
      "Loss: 1.150857, Train accuracy: 1.000000, val accuracy: 0.000000\n",
      "Loss: 1.591715, Train accuracy: 1.000000, val accuracy: 0.000000\n",
      "Loss: 1.251392, Train accuracy: 1.000000, val accuracy: 0.000000\n",
      "Loss: 1.222407, Train accuracy: 1.000000, val accuracy: 0.000000\n",
      "Loss: 1.156605, Train accuracy: 1.000000, val accuracy: 0.000000\n",
      "Loss: 1.156706, Train accuracy: 1.000000, val accuracy: 0.000000\n",
      "Loss: 1.436087, Train accuracy: 1.000000, val accuracy: 0.000000\n",
      "Loss: 1.280868, Train accuracy: 1.000000, val accuracy: 0.000000\n",
      "Loss: 1.394250, Train accuracy: 1.000000, val accuracy: 0.000000\n",
      "Loss: 1.438782, Train accuracy: 1.000000, val accuracy: 0.000000\n",
      "Loss: 1.177221, Train accuracy: 1.000000, val accuracy: 0.000000\n",
      "Loss: 1.413835, Train accuracy: 1.000000, val accuracy: 0.000000\n",
      "Loss: 1.145260, Train accuracy: 1.000000, val accuracy: 0.000000\n",
      "Loss: 1.583616, Train accuracy: 1.000000, val accuracy: 0.000000\n",
      "Loss: 1.450816, Train accuracy: 1.000000, val accuracy: 0.000000\n",
      "Loss: 1.298308, Train accuracy: 1.000000, val accuracy: 0.000000\n",
      "Loss: 1.294543, Train accuracy: 1.000000, val accuracy: 0.000000\n",
      "Loss: 1.295928, Train accuracy: 1.000000, val accuracy: 0.000000\n"
     ]
    }
   ],
   "source": [
    "data_size = 15\n",
    "model = TwoLayerNet(n_input = train_X.shape[1], n_output = 10, hidden_layer_size = 100, reg = 1e-1)\n",
    "dataset = Dataset(train_X[:data_size], train_y[:data_size], val_X[:data_size], val_y[:data_size])\n",
    "trainer = Trainer(model, dataset, SGD(), learning_rate=1e-1, num_epochs=150, batch_size=5)\n",
    "\n",
    "loss_history, train_history, val_history = trainer.fit()"
   ]
  },
  {
   "cell_type": "code",
   "execution_count": 28,
   "outputs": [
    {
     "data": {
      "text/plain": "[<matplotlib.lines.Line2D at 0x1ec90981bc8>]"
     },
     "execution_count": 28,
     "metadata": {},
     "output_type": "execute_result"
    },
    {
     "data": {
      "text/plain": "<Figure size 432x288 with 1 Axes>",
      "image/png": "[encoded data removed]"
     },
     "metadata": {
      "needs_background": "light"
     },
     "output_type": "display_data"
    }
   ],
   "source": [
    "plt.plot(train_history)\n",
    "plt.plot(val_history)"
   ],
   "metadata": {
    "collapsed": false,
    "pycharm": {
     "name": "#%%\n"
    }
   }
  },
  {
   "cell_type": "code",
   "execution_count": 29,
   "outputs": [
    {
     "data": {
      "text/plain": "[<matplotlib.lines.Line2D at 0x1ec905d8048>]"
     },
     "execution_count": 29,
     "metadata": {},
     "output_type": "execute_result"
    },
    {
     "data": {
      "text/plain": "<Figure size 432x288 with 1 Axes>",
      "image/png": "[encoded data removed]"
     },
     "metadata": {
      "needs_background": "light"
     },
     "output_type": "display_data"
    }
   ],
   "source": [
    "plt.plot(loss_history)\n"
   ],
   "metadata": {
    "collapsed": false,
    "pycharm": {
     "name": "#%%\n"
    }
   }
  },
  {
   "cell_type": "markdown",
   "metadata": {},
   "source": [
    "Теперь найдем гипепараметры, для которых этот процесс сходится быстрее.\n",
    "Если все реализовано корректно, то существуют параметры, при которых процесс сходится в **20** эпох или еще быстрее.\n",
    "Найдите их!"
   ]
  },
  {
   "cell_type": "code",
   "execution_count": 35,
   "metadata": {},
   "outputs": [
    {
     "name": "stdout",
     "output_type": "stream",
     "text": [
      "Loss: 2.319666, Train accuracy: 0.133333, val accuracy: 0.200000\n",
      "Loss: 2.216709, Train accuracy: 0.200000, val accuracy: 0.066667\n",
      "Loss: 2.133201, Train accuracy: 0.200000, val accuracy: 0.133333\n",
      "Loss: 2.486757, Train accuracy: 0.400000, val accuracy: 0.000000\n",
      "Loss: 2.537559, Train accuracy: 0.400000, val accuracy: 0.000000\n",
      "Loss: 0.540969, Train accuracy: 0.333333, val accuracy: 0.000000\n",
      "Loss: 1.605009, Train accuracy: 0.466667, val accuracy: 0.066667\n",
      "Loss: 0.876027, Train accuracy: 0.400000, val accuracy: 0.000000\n",
      "Loss: 2.459151, Train accuracy: 0.466667, val accuracy: 0.000000\n",
      "Loss: 0.017431, Train accuracy: 0.533333, val accuracy: 0.000000\n",
      "Loss: 2.353569, Train accuracy: 0.600000, val accuracy: 0.133333\n",
      "Loss: 0.727375, Train accuracy: 0.533333, val accuracy: 0.133333\n",
      "Loss: 0.420283, Train accuracy: 0.666667, val accuracy: 0.000000\n",
      "Loss: 1.500110, Train accuracy: 0.733333, val accuracy: 0.000000\n",
      "Loss: 0.153831, Train accuracy: 0.800000, val accuracy: 0.000000\n",
      "Loss: 0.351417, Train accuracy: 0.800000, val accuracy: 0.000000\n",
      "Loss: 1.118217, Train accuracy: 0.800000, val accuracy: 0.000000\n",
      "Loss: 1.750306, Train accuracy: 0.933333, val accuracy: 0.000000\n",
      "Loss: 1.784062, Train accuracy: 1.000000, val accuracy: 0.000000\n",
      "Loss: 0.528812, Train accuracy: 1.000000, val accuracy: 0.000000\n"
     ]
    }
   ],
   "source": [
    "# Now, tweak some hyper parameters and make it train to 1.0 accuracy in 20 epochs or less\n",
    "\n",
    "model = TwoLayerNet(n_input = train_X.shape[1], n_output = 10, hidden_layer_size = 100, reg = 0)\n",
    "dataset = Dataset(train_X[:data_size], train_y[:data_size], val_X[:data_size], val_y[:data_size])\n",
    "trainer = Trainer(model, dataset, SGD(), learning_rate=1e-1, num_epochs=20, batch_size=2)\n",
    "\n",
    "loss_history, train_history, val_history = trainer.fit()"
   ]
  },
  {
   "cell_type": "markdown",
   "metadata": {},
   "source": [
    "# Итак, основное мероприятие!\n",
    "\n",
    "Натренируйте лучшую нейросеть! Можно добавлять и изменять параметры, менять количество нейронов в слоях сети и как угодно экспериментировать. \n",
    "\n",
    "Добейтесь точности лучше **60%** на validation set."
   ]
  },
  {
   "cell_type": "code",
   "execution_count": 47,
   "metadata": {
    "scrolled": true
   },
   "outputs": [
    {
     "name": "stderr",
     "output_type": "stream",
     "text": [
      "100%|██████████| 50/50 [00:48<00:00,  1.03it/s]"
     ]
    },
    {
     "name": "stdout",
     "output_type": "stream",
     "text": [
      "reg_strength = 0.01\n",
      "learning_rate = 0.01\n",
      "accuracy = 0.547\n"
     ]
    },
    {
     "name": "stderr",
     "output_type": "stream",
     "text": [
      "\n",
      "100%|██████████| 50/50 [00:45<00:00,  1.09it/s]"
     ]
    },
    {
     "name": "stdout",
     "output_type": "stream",
     "text": [
      "reg_strength = 0.01\n",
      "learning_rate = 0.005\n",
      "accuracy = 0.587\n"
     ]
    },
    {
     "name": "stderr",
     "output_type": "stream",
     "text": [
      "\n",
      "100%|██████████| 50/50 [01:00<00:00,  1.21s/it]"
     ]
    },
    {
     "name": "stdout",
     "output_type": "stream",
     "text": [
      "reg_strength = 0.01\n",
      "learning_rate = 0.001\n",
      "accuracy = 0.46\n"
     ]
    },
    {
     "name": "stderr",
     "output_type": "stream",
     "text": [
      "\n",
      "100%|██████████| 50/50 [01:03<00:00,  1.27s/it]"
     ]
    },
    {
     "name": "stdout",
     "output_type": "stream",
     "text": [
      "reg_strength = 0.001\n",
      "learning_rate = 0.01\n",
      "accuracy = 0.617\n"
     ]
    },
    {
     "name": "stderr",
     "output_type": "stream",
     "text": [
      "\n",
      "100%|██████████| 50/50 [00:44<00:00,  1.12it/s]"
     ]
    },
    {
     "name": "stdout",
     "output_type": "stream",
     "text": [
      "reg_strength = 0.001\n",
      "learning_rate = 0.005\n",
      "accuracy = 0.61\n"
     ]
    },
    {
     "name": "stderr",
     "output_type": "stream",
     "text": [
      "\n",
      "100%|██████████| 50/50 [00:43<00:00,  1.15it/s]"
     ]
    },
    {
     "name": "stdout",
     "output_type": "stream",
     "text": [
      "reg_strength = 0.001\n",
      "learning_rate = 0.001\n",
      "accuracy = 0.569\n"
     ]
    },
    {
     "name": "stderr",
     "output_type": "stream",
     "text": [
      "\n",
      "100%|██████████| 50/50 [00:43<00:00,  1.15it/s]"
     ]
    },
    {
     "name": "stdout",
     "output_type": "stream",
     "text": [
      "reg_strength = 0.0001\n",
      "learning_rate = 0.01\n",
      "accuracy = 0.627\n"
     ]
    },
    {
     "name": "stderr",
     "output_type": "stream",
     "text": [
      "\n",
      "100%|██████████| 50/50 [00:44<00:00,  1.12it/s]"
     ]
    },
    {
     "name": "stdout",
     "output_type": "stream",
     "text": [
      "reg_strength = 0.0001\n",
      "learning_rate = 0.005\n",
      "accuracy = 0.588\n"
     ]
    },
    {
     "name": "stderr",
     "output_type": "stream",
     "text": [
      "\n",
      "100%|██████████| 50/50 [00:44<00:00,  1.12it/s]"
     ]
    },
    {
     "name": "stdout",
     "output_type": "stream",
     "text": [
      "reg_strength = 0.0001\n",
      "learning_rate = 0.001\n",
      "accuracy = 0.562\n",
      "Best reg_strength = 0.0001\n",
      "Best learning_rate = 0.01\n",
      "Best accuracy = 0.627\n",
      "best validation accuracy achieved: 0.627000\n"
     ]
    },
    {
     "name": "stderr",
     "output_type": "stream",
     "text": [
      "\n"
     ]
    }
   ],
   "source": [
    "dataset = Dataset(train_X, train_y, val_X, val_y)\n",
    "\n",
    "# Let's train the best one-hidden-layer network we can\n",
    "\n",
    "hidden_layer_size = 10\n",
    "learning_rate_decay = 0.99\n",
    "batch_size = 16\n",
    "num_epochs = 50\n",
    "\n",
    "reg_strengths = [1e-2, 1e-3, 1e-4]\n",
    "learning_rates = [1e-2, 5e-3, 1e-3]\n",
    "\n",
    "best_val_accuracy = None\n",
    "best_classifier = None\n",
    "\n",
    "for reg_strength in reg_strengths:\n",
    "    for learning_rate in learning_rates:\n",
    "        model = TwoLayerNet(n_input=train_X.shape[1], n_output=10,\n",
    "                            hidden_layer_size=hidden_layer_size, reg=reg_strength)\n",
    "        trainer = Trainer(model, dataset, MomentumSGD(), learning_rate=learning_rate,\n",
    "                          learning_rate_decay=learning_rate_decay,\n",
    "                          num_epochs=num_epochs, batch_size=batch_size)\n",
    "        loss_history, train_history, val_history = trainer.fit(out=False)\n",
    "        accuracy = val_history[-1]\n",
    "        if best_val_accuracy is None or best_val_accuracy < accuracy:\n",
    "            best_classifier = model\n",
    "            best_val_accuracy = accuracy\n",
    "            best_reg_strength = reg_strength\n",
    "            best_learning_rate = learning_rate\n",
    "        print('reg_strength =', reg_strength, flush=True)\n",
    "        print('learning_rate =', learning_rate, flush=True)\n",
    "        print('accuracy =', accuracy, flush=True)\n",
    "\n",
    "print('Best reg_strength =', best_reg_strength, flush=True)\n",
    "print('Best learning_rate =', best_learning_rate, flush=True)\n",
    "print('Best accuracy =', best_val_accuracy, flush=True)\n",
    "\n",
    "print('best validation accuracy achieved: %f' % best_val_accuracy)"
   ]
  },
  {
   "cell_type": "code",
   "execution_count": 48,
   "metadata": {},
   "outputs": [
    {
     "data": {
      "text/plain": "[<matplotlib.lines.Line2D at 0x1ec90f03ec8>]"
     },
     "execution_count": 48,
     "metadata": {},
     "output_type": "execute_result"
    },
    {
     "data": {
      "text/plain": "<Figure size 1080x504 with 2 Axes>",
      "image/png": "[encoded data removed]"
     },
     "metadata": {
      "needs_background": "light"
     },
     "output_type": "display_data"
    }
   ],
   "source": [
    "plt.figure(figsize=(15, 7))\n",
    "plt.subplot(211)\n",
    "plt.title(\"Loss\")\n",
    "plt.plot(loss_history)\n",
    "plt.subplot(212)\n",
    "plt.title(\"Train/validation accuracy\")\n",
    "plt.plot(train_history)\n",
    "plt.plot(val_history)"
   ]
  },
  {
   "cell_type": "markdown",
   "metadata": {},
   "source": [
    "# Как обычно, посмотрим, как наша лучшая модель работает на тестовых данных"
   ]
  },
  {
   "cell_type": "code",
   "execution_count": 49,
   "metadata": {},
   "outputs": [
    {
     "name": "stdout",
     "output_type": "stream",
     "text": [
      "Neural net test set accuracy: 0.573000\n"
     ]
    }
   ],
   "source": [
    "test_pred = best_classifier.predict(test_X)\n",
    "test_accuracy = multiclass_accuracy(test_pred, test_y)\n",
    "print('Neural net test set accuracy: %f' % (test_accuracy, ))"
   ]
  },
  {
   "cell_type": "code",
   "execution_count": null,
   "outputs": [],
   "source": [],
   "metadata": {
    "collapsed": false,
    "pycharm": {
     "name": "#%%\n"
    }
   }
  }
 ],
 "metadata": {
  "kernelspec": {
   "display_name": "Python 3",
   "language": "python",
   "name": "python3"
  },
  "language_info": {
   "codemirror_mode": {
    "name": "ipython",
    "version": 3
   },
   "file_extension": ".py",
   "mimetype": "text/x-python",
   "name": "python",
   "nbconvert_exporter": "python",
   "pygments_lexer": "ipython3",
   "version": "3.7.0"
  }
 },
 "nbformat": 4,
 "nbformat_minor": 2
}